{
 "cells": [
  {
   "cell_type": "code",
   "execution_count": 1,
   "metadata": {
    "collapsed": true
   },
   "outputs": [],
   "source": [
    "import numpy as np\n",
    "import pandas as pd\n",
    "%matplotlib inline"
   ]
  },
  {
   "cell_type": "code",
   "execution_count": 37,
   "metadata": {},
   "outputs": [
    {
     "data": {
      "text/html": [
       "<div>\n",
       "<style>\n",
       "    .dataframe thead tr:only-child th {\n",
       "        text-align: right;\n",
       "    }\n",
       "\n",
       "    .dataframe thead th {\n",
       "        text-align: left;\n",
       "    }\n",
       "\n",
       "    .dataframe tbody tr th {\n",
       "        vertical-align: top;\n",
       "    }\n",
       "</style>\n",
       "<table border=\"1\" class=\"dataframe\">\n",
       "  <thead>\n",
       "    <tr style=\"text-align: right;\">\n",
       "      <th></th>\n",
       "      <th>Day of Week</th>\n",
       "      <th>Day</th>\n",
       "      <th>HM-NE</th>\n",
       "      <th>CF-NE</th>\n",
       "      <th>FF-NE</th>\n",
       "      <th>HM-SW</th>\n",
       "      <th>CF-SW</th>\n",
       "      <th>FF-SW</th>\n",
       "      <th>HM-NW</th>\n",
       "      <th>CF-NW</th>\n",
       "      <th>FF-NW</th>\n",
       "      <th>HM-SE</th>\n",
       "      <th>CF-SE</th>\n",
       "      <th>FF-SE</th>\n",
       "      <th>HM-C</th>\n",
       "      <th>CF-C</th>\n",
       "      <th>FF-C</th>\n",
       "    </tr>\n",
       "  </thead>\n",
       "  <tbody>\n",
       "    <tr>\n",
       "      <th>0</th>\n",
       "      <td>Friday</td>\n",
       "      <td>1/1/2016</td>\n",
       "      <td>37240</td>\n",
       "      <td>16077</td>\n",
       "      <td>8446</td>\n",
       "      <td>39249</td>\n",
       "      <td>16565</td>\n",
       "      <td>10204</td>\n",
       "      <td>37271</td>\n",
       "      <td>16819</td>\n",
       "      <td>9924</td>\n",
       "      <td>35967</td>\n",
       "      <td>13955</td>\n",
       "      <td>11734</td>\n",
       "      <td>35689</td>\n",
       "      <td>13499</td>\n",
       "      <td>11232</td>\n",
       "    </tr>\n",
       "    <tr>\n",
       "      <th>1</th>\n",
       "      <td>Saturday</td>\n",
       "      <td>1/2/2016</td>\n",
       "      <td>36258</td>\n",
       "      <td>14726</td>\n",
       "      <td>7950</td>\n",
       "      <td>38106</td>\n",
       "      <td>14003</td>\n",
       "      <td>7316</td>\n",
       "      <td>35021</td>\n",
       "      <td>14705</td>\n",
       "      <td>9028</td>\n",
       "      <td>36398</td>\n",
       "      <td>15089</td>\n",
       "      <td>8005</td>\n",
       "      <td>37178</td>\n",
       "      <td>14256</td>\n",
       "      <td>9152</td>\n",
       "    </tr>\n",
       "    <tr>\n",
       "      <th>2</th>\n",
       "      <td>Sunday</td>\n",
       "      <td>1/3/2016</td>\n",
       "      <td>37007</td>\n",
       "      <td>15103</td>\n",
       "      <td>8397</td>\n",
       "      <td>35494</td>\n",
       "      <td>15987</td>\n",
       "      <td>8683</td>\n",
       "      <td>35369</td>\n",
       "      <td>16591</td>\n",
       "      <td>8105</td>\n",
       "      <td>34864</td>\n",
       "      <td>13919</td>\n",
       "      <td>7011</td>\n",
       "      <td>35855</td>\n",
       "      <td>15557</td>\n",
       "      <td>8406</td>\n",
       "    </tr>\n",
       "    <tr>\n",
       "      <th>3</th>\n",
       "      <td>Monday</td>\n",
       "      <td>1/4/2016</td>\n",
       "      <td>37590</td>\n",
       "      <td>16413</td>\n",
       "      <td>9537</td>\n",
       "      <td>33666</td>\n",
       "      <td>15114</td>\n",
       "      <td>8429</td>\n",
       "      <td>37993</td>\n",
       "      <td>14535</td>\n",
       "      <td>8034</td>\n",
       "      <td>36601</td>\n",
       "      <td>14528</td>\n",
       "      <td>8201</td>\n",
       "      <td>36168</td>\n",
       "      <td>15699</td>\n",
       "      <td>7940</td>\n",
       "    </tr>\n",
       "    <tr>\n",
       "      <th>4</th>\n",
       "      <td>Tuesday</td>\n",
       "      <td>1/5/2016</td>\n",
       "      <td>38036</td>\n",
       "      <td>16199</td>\n",
       "      <td>10123</td>\n",
       "      <td>33528</td>\n",
       "      <td>13721</td>\n",
       "      <td>10085</td>\n",
       "      <td>37854</td>\n",
       "      <td>14590</td>\n",
       "      <td>9879</td>\n",
       "      <td>36661</td>\n",
       "      <td>15132</td>\n",
       "      <td>8874</td>\n",
       "      <td>36837</td>\n",
       "      <td>15420</td>\n",
       "      <td>8607</td>\n",
       "    </tr>\n",
       "  </tbody>\n",
       "</table>\n",
       "</div>"
      ],
      "text/plain": [
       "  Day of Week       Day  HM-NE  CF-NE  FF-NE  HM-SW  CF-SW  FF-SW  HM-NW  \\\n",
       "0      Friday  1/1/2016  37240  16077   8446  39249  16565  10204  37271   \n",
       "1    Saturday  1/2/2016  36258  14726   7950  38106  14003   7316  35021   \n",
       "2      Sunday  1/3/2016  37007  15103   8397  35494  15987   8683  35369   \n",
       "3      Monday  1/4/2016  37590  16413   9537  33666  15114   8429  37993   \n",
       "4     Tuesday  1/5/2016  38036  16199  10123  33528  13721  10085  37854   \n",
       "\n",
       "   CF-NW  FF-NW  HM-SE  CF-SE  FF-SE   HM-C   CF-C   FF-C  \n",
       "0  16819   9924  35967  13955  11734  35689  13499  11232  \n",
       "1  14705   9028  36398  15089   8005  37178  14256   9152  \n",
       "2  16591   8105  34864  13919   7011  35855  15557   8406  \n",
       "3  14535   8034  36601  14528   8201  36168  15699   7940  \n",
       "4  14590   9879  36661  15132   8874  36837  15420   8607  "
      ]
     },
     "execution_count": 37,
     "metadata": {},
     "output_type": "execute_result"
    }
   ],
   "source": [
    "df_daily = pd.read_csv('daily_sales.csv')\n",
    "df_daily = df_daily.rename(columns = {'Unnamed: 0': 'Day of Week'})\n",
    "df_daily.head()"
   ]
  },
  {
   "cell_type": "code",
   "execution_count": 38,
   "metadata": {},
   "outputs": [
    {
     "data": {
      "text/html": [
       "<div>\n",
       "<style>\n",
       "    .dataframe thead tr:only-child th {\n",
       "        text-align: right;\n",
       "    }\n",
       "\n",
       "    .dataframe thead th {\n",
       "        text-align: left;\n",
       "    }\n",
       "\n",
       "    .dataframe tbody tr th {\n",
       "        vertical-align: top;\n",
       "    }\n",
       "</style>\n",
       "<table border=\"1\" class=\"dataframe\">\n",
       "  <thead>\n",
       "    <tr style=\"text-align: right;\">\n",
       "      <th></th>\n",
       "      <th>Month, Year</th>\n",
       "      <th>HM-NE</th>\n",
       "      <th>CF-NE</th>\n",
       "      <th>FF-NE</th>\n",
       "      <th>HM-SW</th>\n",
       "      <th>CF-SW</th>\n",
       "      <th>FF-SW</th>\n",
       "      <th>HM-NW</th>\n",
       "      <th>CF-NW</th>\n",
       "      <th>FF-NW</th>\n",
       "      <th>HM-SE</th>\n",
       "      <th>CF-SE</th>\n",
       "      <th>FF-SE</th>\n",
       "      <th>HM-C</th>\n",
       "      <th>CF-C</th>\n",
       "      <th>FF-C</th>\n",
       "    </tr>\n",
       "  </thead>\n",
       "  <tbody>\n",
       "    <tr>\n",
       "      <th>0</th>\n",
       "      <td>Jan-16</td>\n",
       "      <td>1140955</td>\n",
       "      <td>494802</td>\n",
       "      <td>285238</td>\n",
       "      <td>1124565</td>\n",
       "      <td>468568</td>\n",
       "      <td>281141</td>\n",
       "      <td>1111618</td>\n",
       "      <td>482079</td>\n",
       "      <td>277904</td>\n",
       "      <td>1095034</td>\n",
       "      <td>456264</td>\n",
       "      <td>273758</td>\n",
       "      <td>1126476</td>\n",
       "      <td>450958</td>\n",
       "      <td>281619</td>\n",
       "    </tr>\n",
       "    <tr>\n",
       "      <th>1</th>\n",
       "      <td>Feb-16</td>\n",
       "      <td>1175529</td>\n",
       "      <td>489804</td>\n",
       "      <td>293882</td>\n",
       "      <td>1200559</td>\n",
       "      <td>480616</td>\n",
       "      <td>288369</td>\n",
       "      <td>1188037</td>\n",
       "      <td>475603</td>\n",
       "      <td>297009</td>\n",
       "      <td>1167009</td>\n",
       "      <td>486254</td>\n",
       "      <td>280311</td>\n",
       "      <td>1109076</td>\n",
       "      <td>462115</td>\n",
       "      <td>288586</td>\n",
       "    </tr>\n",
       "    <tr>\n",
       "      <th>2</th>\n",
       "      <td>Mar-16</td>\n",
       "      <td>1235995</td>\n",
       "      <td>494802</td>\n",
       "      <td>296881</td>\n",
       "      <td>1220454</td>\n",
       "      <td>508522</td>\n",
       "      <td>293148</td>\n",
       "      <td>1151657</td>\n",
       "      <td>499443</td>\n",
       "      <td>287914</td>\n",
       "      <td>1133899</td>\n",
       "      <td>472458</td>\n",
       "      <td>295045</td>\n",
       "      <td>1167894</td>\n",
       "      <td>486622</td>\n",
       "      <td>280523</td>\n",
       "    </tr>\n",
       "    <tr>\n",
       "      <th>3</th>\n",
       "      <td>Apr-16</td>\n",
       "      <td>1186592</td>\n",
       "      <td>514593</td>\n",
       "      <td>296648</td>\n",
       "      <td>1213616</td>\n",
       "      <td>485843</td>\n",
       "      <td>291505</td>\n",
       "      <td>1149180</td>\n",
       "      <td>498369</td>\n",
       "      <td>299021</td>\n",
       "      <td>1133767</td>\n",
       "      <td>491684</td>\n",
       "      <td>283441</td>\n",
       "      <td>1116560</td>\n",
       "      <td>465233</td>\n",
       "      <td>290533</td>\n",
       "    </tr>\n",
       "    <tr>\n",
       "      <th>4</th>\n",
       "      <td>May-16</td>\n",
       "      <td>1272450</td>\n",
       "      <td>530187</td>\n",
       "      <td>305637</td>\n",
       "      <td>1249686</td>\n",
       "      <td>520702</td>\n",
       "      <td>312421</td>\n",
       "      <td>1187579</td>\n",
       "      <td>494824</td>\n",
       "      <td>296894</td>\n",
       "      <td>1215080</td>\n",
       "      <td>506283</td>\n",
       "      <td>291857</td>\n",
       "      <td>1155612</td>\n",
       "      <td>481505</td>\n",
       "      <td>300695</td>\n",
       "    </tr>\n",
       "  </tbody>\n",
       "</table>\n",
       "</div>"
      ],
      "text/plain": [
       "  Month, Year    HM-NE   CF-NE   FF-NE    HM-SW   CF-SW   FF-SW    HM-NW  \\\n",
       "0      Jan-16  1140955  494802  285238  1124565  468568  281141  1111618   \n",
       "1      Feb-16  1175529  489804  293882  1200559  480616  288369  1188037   \n",
       "2      Mar-16  1235995  494802  296881  1220454  508522  293148  1151657   \n",
       "3      Apr-16  1186592  514593  296648  1213616  485843  291505  1149180   \n",
       "4      May-16  1272450  530187  305637  1249686  520702  312421  1187579   \n",
       "\n",
       "    CF-NW   FF-NW    HM-SE   CF-SE   FF-SE     HM-C    CF-C    FF-C  \n",
       "0  482079  277904  1095034  456264  273758  1126476  450958  281619  \n",
       "1  475603  297009  1167009  486254  280311  1109076  462115  288586  \n",
       "2  499443  287914  1133899  472458  295045  1167894  486622  280523  \n",
       "3  498369  299021  1133767  491684  283441  1116560  465233  290533  \n",
       "4  494824  296894  1215080  506283  291857  1155612  481505  300695  "
      ]
     },
     "execution_count": 38,
     "metadata": {},
     "output_type": "execute_result"
    }
   ],
   "source": [
    "df_monthly = pd.read_csv('monthly_sales.csv')\n",
    "df_monthly.head()"
   ]
  },
  {
   "cell_type": "code",
   "execution_count": 39,
   "metadata": {},
   "outputs": [
    {
     "data": {
      "text/plain": [
       "array(['Jan-16', 'Feb-16', 'Mar-16', 'Apr-16', 'May-16', 'Jun-16',\n",
       "       'Jul-16', 'Aug-16', 'Sep-16', 'Oct-16', 'Nov-16', 'Dec-16',\n",
       "       'Jan-17', 'Feb-17', 'Mar-17', 'Apr-17', 'May-17', 'Jun-17',\n",
       "       'Jul-17', 'Aug-17', 'Sep-17', 'Oct-17', 'Nov-17', 'Dec-17',\n",
       "       'Jan-18', 'Feb-18', 'Mar-18', 'Apr-18', 'May-18', 'Jun-18',\n",
       "       'Jul-18', 'Aug-18', 'Sep-18', 'Oct-18', 'Nov-18', 'Dec-18',\n",
       "       'Jan-19', 'Feb-19', 'Mar-19', 'Apr-19', 'May-19', 'Jun-19',\n",
       "       'Jul-19', 'Aug-19', 'Sep-19'], dtype=object)"
      ]
     },
     "execution_count": 39,
     "metadata": {},
     "output_type": "execute_result"
    }
   ],
   "source": [
    "df_monthly.iloc[:,0].unique()"
   ]
  },
  {
   "cell_type": "code",
   "execution_count": 40,
   "metadata": {},
   "outputs": [
    {
     "data": {
      "text/plain": [
       "Index(['Day of Week', 'Day', 'HM-NE', 'CF-NE', 'FF-NE', 'HM-SW', 'CF-SW',\n",
       "       'FF-SW', 'HM-NW', 'CF-NW', 'FF-NW', 'HM-SE', 'CF-SE', 'FF-SE', 'HM-C',\n",
       "       'CF-C', 'FF-C'],\n",
       "      dtype='object')"
      ]
     },
     "execution_count": 40,
     "metadata": {},
     "output_type": "execute_result"
    }
   ],
   "source": [
    "df_daily.columns"
   ]
  },
  {
   "cell_type": "code",
   "execution_count": 42,
   "metadata": {},
   "outputs": [],
   "source": [
    "df_daily_ne = df_daily[(['Day of Week'] + list(df_daily.filter(regex = 'NE').columns))]"
   ]
  },
  {
   "cell_type": "code",
   "execution_count": 44,
   "metadata": {},
   "outputs": [
    {
     "data": {
      "text/html": [
       "<div>\n",
       "<style>\n",
       "    .dataframe thead tr:only-child th {\n",
       "        text-align: right;\n",
       "    }\n",
       "\n",
       "    .dataframe thead th {\n",
       "        text-align: left;\n",
       "    }\n",
       "\n",
       "    .dataframe tbody tr th {\n",
       "        vertical-align: top;\n",
       "    }\n",
       "</style>\n",
       "<table border=\"1\" class=\"dataframe\">\n",
       "  <thead>\n",
       "    <tr style=\"text-align: right;\">\n",
       "      <th></th>\n",
       "      <th>Day of Week</th>\n",
       "      <th>HM-NE</th>\n",
       "      <th>CF-NE</th>\n",
       "      <th>FF-NE</th>\n",
       "    </tr>\n",
       "  </thead>\n",
       "  <tbody>\n",
       "    <tr>\n",
       "      <th>0</th>\n",
       "      <td>Friday</td>\n",
       "      <td>37240</td>\n",
       "      <td>16077</td>\n",
       "      <td>8446</td>\n",
       "    </tr>\n",
       "    <tr>\n",
       "      <th>1</th>\n",
       "      <td>Saturday</td>\n",
       "      <td>36258</td>\n",
       "      <td>14726</td>\n",
       "      <td>7950</td>\n",
       "    </tr>\n",
       "    <tr>\n",
       "      <th>2</th>\n",
       "      <td>Sunday</td>\n",
       "      <td>37007</td>\n",
       "      <td>15103</td>\n",
       "      <td>8397</td>\n",
       "    </tr>\n",
       "    <tr>\n",
       "      <th>3</th>\n",
       "      <td>Monday</td>\n",
       "      <td>37590</td>\n",
       "      <td>16413</td>\n",
       "      <td>9537</td>\n",
       "    </tr>\n",
       "    <tr>\n",
       "      <th>4</th>\n",
       "      <td>Tuesday</td>\n",
       "      <td>38036</td>\n",
       "      <td>16199</td>\n",
       "      <td>10123</td>\n",
       "    </tr>\n",
       "  </tbody>\n",
       "</table>\n",
       "</div>"
      ],
      "text/plain": [
       "  Day of Week  HM-NE  CF-NE  FF-NE\n",
       "0      Friday  37240  16077   8446\n",
       "1    Saturday  36258  14726   7950\n",
       "2      Sunday  37007  15103   8397\n",
       "3      Monday  37590  16413   9537\n",
       "4     Tuesday  38036  16199  10123"
      ]
     },
     "execution_count": 44,
     "metadata": {},
     "output_type": "execute_result"
    }
   ],
   "source": [
    "df_daily_ne.head()"
   ]
  },
  {
   "cell_type": "code",
   "execution_count": 45,
   "metadata": {},
   "outputs": [
    {
     "data": {
      "text/plain": [
       "<matplotlib.axes._subplots.AxesSubplot at 0x280a4128358>"
      ]
     },
     "execution_count": 45,
     "metadata": {},
     "output_type": "execute_result"
    },
    {
     "data": {
      "image/png": "[encoded data removed]",
      "text/plain": [
       "<Figure size 432x288 with 1 Axes>"
      ]
     },
     "metadata": {},
     "output_type": "display_data"
    }
   ],
   "source": [
    "df_daily_ne.plot()"
   ]
  },
  {
   "cell_type": "code",
   "execution_count": 47,
   "metadata": {},
   "outputs": [
    {
     "data": {
      "text/html": [
       "<div>\n",
       "<style>\n",
       "    .dataframe thead tr:only-child th {\n",
       "        text-align: right;\n",
       "    }\n",
       "\n",
       "    .dataframe thead th {\n",
       "        text-align: left;\n",
       "    }\n",
       "\n",
       "    .dataframe tbody tr th {\n",
       "        vertical-align: top;\n",
       "    }\n",
       "</style>\n",
       "<table border=\"1\" class=\"dataframe\">\n",
       "  <thead>\n",
       "    <tr style=\"text-align: right;\">\n",
       "      <th></th>\n",
       "      <th>Day of Week</th>\n",
       "      <th>HM-NE</th>\n",
       "      <th>HM-SW</th>\n",
       "      <th>HM-NW</th>\n",
       "      <th>HM-SE</th>\n",
       "      <th>HM-C</th>\n",
       "    </tr>\n",
       "  </thead>\n",
       "  <tbody>\n",
       "    <tr>\n",
       "      <th>0</th>\n",
       "      <td>Friday</td>\n",
       "      <td>37240</td>\n",
       "      <td>39249</td>\n",
       "      <td>37271</td>\n",
       "      <td>35967</td>\n",
       "      <td>35689</td>\n",
       "    </tr>\n",
       "    <tr>\n",
       "      <th>1</th>\n",
       "      <td>Saturday</td>\n",
       "      <td>36258</td>\n",
       "      <td>38106</td>\n",
       "      <td>35021</td>\n",
       "      <td>36398</td>\n",
       "      <td>37178</td>\n",
       "    </tr>\n",
       "    <tr>\n",
       "      <th>2</th>\n",
       "      <td>Sunday</td>\n",
       "      <td>37007</td>\n",
       "      <td>35494</td>\n",
       "      <td>35369</td>\n",
       "      <td>34864</td>\n",
       "      <td>35855</td>\n",
       "    </tr>\n",
       "    <tr>\n",
       "      <th>3</th>\n",
       "      <td>Monday</td>\n",
       "      <td>37590</td>\n",
       "      <td>33666</td>\n",
       "      <td>37993</td>\n",
       "      <td>36601</td>\n",
       "      <td>36168</td>\n",
       "    </tr>\n",
       "    <tr>\n",
       "      <th>4</th>\n",
       "      <td>Tuesday</td>\n",
       "      <td>38036</td>\n",
       "      <td>33528</td>\n",
       "      <td>37854</td>\n",
       "      <td>36661</td>\n",
       "      <td>36837</td>\n",
       "    </tr>\n",
       "  </tbody>\n",
       "</table>\n",
       "</div>"
      ],
      "text/plain": [
       "  Day of Week  HM-NE  HM-SW  HM-NW  HM-SE   HM-C\n",
       "0      Friday  37240  39249  37271  35967  35689\n",
       "1    Saturday  36258  38106  35021  36398  37178\n",
       "2      Sunday  37007  35494  35369  34864  35855\n",
       "3      Monday  37590  33666  37993  36601  36168\n",
       "4     Tuesday  38036  33528  37854  36661  36837"
      ]
     },
     "execution_count": 47,
     "metadata": {},
     "output_type": "execute_result"
    }
   ],
   "source": [
    "df_daily_hm =  df_daily_ne = df_daily[(['Day of Week'] + list(df_daily.filter(regex = 'HM').columns))]\n",
    "df_daily_hm.head()"
   ]
  },
  {
   "cell_type": "code",
   "execution_count": 48,
   "metadata": {},
   "outputs": [
    {
     "data": {
      "text/plain": [
       "<matplotlib.axes._subplots.AxesSubplot at 0x280a65c32b0>"
      ]
     },
     "execution_count": 48,
     "metadata": {},
     "output_type": "execute_result"
    },
    {
     "data": {
      "image/png": "[encoded data removed]",
      "text/plain": [
       "<Figure size 432x288 with 1 Axes>"
      ]
     },
     "metadata": {},
     "output_type": "display_data"
    }
   ],
   "source": [
    "df_daily_hm.plot()"
   ]
  },
  {
   "cell_type": "code",
   "execution_count": null,
   "metadata": {
    "collapsed": true
   },
   "outputs": [],
   "source": []
  }
 ],
 "metadata": {
  "kernelspec": {
   "display_name": "Python 3",
   "language": "python",
   "name": "python3"
  },
  "language_info": {
   "codemirror_mode": {
    "name": "ipython",
    "version": 3
   },
   "file_extension": ".py",
   "mimetype": "text/x-python",
   "name": "python",
   "nbconvert_exporter": "python",
   "pygments_lexer": "ipython3",
   "version": "3.6.3"
  }
 },
 "nbformat": 4,
 "nbformat_minor": 2
}
